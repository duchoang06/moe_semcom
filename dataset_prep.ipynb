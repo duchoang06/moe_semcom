{
 "cells": [
  {
   "cell_type": "code",
   "execution_count": 1,
   "id": "ec3f82f4",
   "metadata": {},
   "outputs": [],
   "source": [
    "from datasets import load_dataset\n",
    "from transformers import AutoTokenizer, T5EncoderModel\n",
    "import torch\n",
    "import torch.nn as nn\n",
    "from torch.utils.data import DataLoader\n",
    "from torch.utils.data import Dataset\n",
    "\n",
    "# 1. Load QQP dataset\n",
    "dataset = load_dataset(\"glue\", \"qqp\")\n",
    "\n",
    "# 4. Create DataLoaders\n",
    "train_loader = DataLoader(dataset[\"train\"], batch_size=8, shuffle=True)\n",
    "val_loader = DataLoader(dataset[\"validation\"], batch_size=8)\n",
    "\n",
    "# 5. Define classification model using T5 encoder + linear head\n",
    "class QQPPromptDataset(Dataset):\n",
    "    def __init__(self, hf_dataset_split):\n",
    "        self.q1 = hf_dataset_split[\"question1\"]\n",
    "        self.q2 = hf_dataset_split[\"question2\"]\n",
    "        self.labels = hf_dataset_split[\"label\"]\n",
    "\n",
    "    def __len__(self):\n",
    "        return len(self.labels)\n",
    "\n",
    "    def __getitem__(self, idx):\n",
    "        # Embed the questions in a prompt-like sentence\n",
    "        prompt = f\"Are these questions asking the same thing? Question1: {self.q1[idx]} Question2: {self.q2[idx]}\"\n",
    "        label = self.labels[idx]\n",
    "        return prompt, label\n",
    "\n",
    "train_dataset = QQPPromptDataset(dataset[\"train\"])\n",
    "train_loader = DataLoader(train_dataset, batch_size=32, shuffle=True)\n",
    "\n"
   ]
  },
  {
   "cell_type": "code",
   "execution_count": 2,
   "id": "347940cd",
   "metadata": {},
   "outputs": [
    {
     "name": "stdout",
     "output_type": "stream",
     "text": [
      "Max length of prompt: 1390\n",
      "Average length of prompt: 185.82213079159865\n"
     ]
    }
   ],
   "source": [
    "max_len = 0\n",
    "len_arr = []\n",
    "for i in train_dataset:\n",
    "    prompt, label = i\n",
    "\n",
    "    len_arr.append(len(prompt))\n",
    "    if len(prompt) > max_len:\n",
    "        max_len = len(prompt)\n",
    "\n",
    "print(f\"Max length of prompt: {max_len}\")\n",
    "print(f\"Average length of prompt: {sum(len_arr) / len(len_arr)}\")\n"
   ]
  },
  {
   "cell_type": "code",
   "execution_count": 2,
   "id": "587360ad",
   "metadata": {},
   "outputs": [
    {
     "data": {
      "application/vnd.jupyter.widget-view+json": {
       "model_id": "fc055c345c14489c96fefaad15073233",
       "version_major": 2,
       "version_minor": 0
      },
      "text/plain": [
       "Saving the dataset (0/1 shards):   0%|          | 0/363846 [00:00<?, ? examples/s]"
      ]
     },
     "metadata": {},
     "output_type": "display_data"
    },
    {
     "data": {
      "application/vnd.jupyter.widget-view+json": {
       "model_id": "933b783f2d8d41c2a7b00e234477e112",
       "version_major": 2,
       "version_minor": 0
      },
      "text/plain": [
       "Saving the dataset (0/1 shards):   0%|          | 0/40430 [00:00<?, ? examples/s]"
      ]
     },
     "metadata": {},
     "output_type": "display_data"
    },
    {
     "data": {
      "application/vnd.jupyter.widget-view+json": {
       "model_id": "1c8a1a0592a645b8aa1a00c53ebd11b8",
       "version_major": 2,
       "version_minor": 0
      },
      "text/plain": [
       "Saving the dataset (0/1 shards):   0%|          | 0/390965 [00:00<?, ? examples/s]"
      ]
     },
     "metadata": {},
     "output_type": "display_data"
    }
   ],
   "source": [
    "tokenized_dataset.save_to_disk(\"tokenized_qqp_dataset\")"
   ]
  },
  {
   "cell_type": "code",
   "execution_count": null,
   "id": "d8e69e9f",
   "metadata": {},
   "outputs": [],
   "source": [
    "tokenized_dataset = load_from_disk(\"tokenized_qqp_dataset\")\n"
   ]
  }
 ],
 "metadata": {
  "kernelspec": {
   "display_name": "base",
   "language": "python",
   "name": "python3"
  },
  "language_info": {
   "codemirror_mode": {
    "name": "ipython",
    "version": 3
   },
   "file_extension": ".py",
   "mimetype": "text/x-python",
   "name": "python",
   "nbconvert_exporter": "python",
   "pygments_lexer": "ipython3",
   "version": "3.11.10"
  }
 },
 "nbformat": 4,
 "nbformat_minor": 5
}
